{
 "cells": [
  {
   "cell_type": "code",
   "execution_count": 1,
   "id": "0f4f7ccb",
   "metadata": {},
   "outputs": [],
   "source": [
    "import cv2\n",
    "import numpy as np"
   ]
  },
  {
   "cell_type": "code",
   "execution_count": 2,
   "id": "194e711b",
   "metadata": {},
   "outputs": [],
   "source": [
    "img=cv2.imread('1.jpg')"
   ]
  },
  {
   "cell_type": "code",
   "execution_count": 3,
   "id": "a4eec84f",
   "metadata": {},
   "outputs": [],
   "source": [
    "def cv_show(name,img):\n",
    "    cv2.imshow(name,img) \n",
    "    cv2.waitKey(10000) \n",
    "    cv2.destroyAllWindows()"
   ]
  },
  {
   "cell_type": "code",
   "execution_count": 4,
   "id": "3172f42c",
   "metadata": {},
   "outputs": [],
   "source": [
    "b,g,r=cv2.split(img)"
   ]
  },
  {
   "cell_type": "code",
   "execution_count": 5,
   "id": "182e0f43",
   "metadata": {},
   "outputs": [],
   "source": [
    "ret1, blue = cv2.threshold(b, 240, 255, cv2.THRESH_BINARY_INV)"
   ]
  },
  {
   "cell_type": "code",
   "execution_count": 6,
   "id": "22b96413",
   "metadata": {},
   "outputs": [],
   "source": [
    "ret2, red = cv2.threshold(r, 240, 255, cv2.THRESH_BINARY_INV)"
   ]
  },
  {
   "cell_type": "code",
   "execution_count": 7,
   "id": "77fefe91",
   "metadata": {},
   "outputs": [],
   "source": [
    "res = cv2.add(red,blue)"
   ]
  },
  {
   "cell_type": "code",
   "execution_count": 8,
   "id": "13678363",
   "metadata": {},
   "outputs": [],
   "source": [
    "image = cv2.bitwise_not(src=res)"
   ]
  },
  {
   "cell_type": "code",
   "execution_count": 9,
   "id": "27e5ce77",
   "metadata": {},
   "outputs": [],
   "source": [
    "contours, hierarchy = cv2.findContours(image,cv2.RETR_TREE,cv2.CHAIN_APPROX_NONE)"
   ]
  },
  {
   "cell_type": "code",
   "execution_count": null,
   "id": "bca060cf",
   "metadata": {},
   "outputs": [],
   "source": [
    "draw_img = img.copy()\n",
    "cnt = contours[0]\n",
    "x,y,w,h = cv2.boundingRect(cnt)\n",
    "draw_img = cv2.rectangle(img,(x,y),(x+w,y+h),(255,255,255),2)\n",
    "cv_show(\"res\",draw_img)"
   ]
  },
  {
   "cell_type": "code",
   "execution_count": null,
   "id": "261be3ef",
   "metadata": {},
   "outputs": [],
   "source": []
  }
 ],
 "metadata": {
  "kernelspec": {
   "display_name": "Python 3 (ipykernel)",
   "language": "python",
   "name": "python3"
  },
  "language_info": {
   "codemirror_mode": {
    "name": "ipython",
    "version": 3
   },
   "file_extension": ".py",
   "mimetype": "text/x-python",
   "name": "python",
   "nbconvert_exporter": "python",
   "pygments_lexer": "ipython3",
   "version": "3.9.12"
  }
 },
 "nbformat": 4,
 "nbformat_minor": 5
}
