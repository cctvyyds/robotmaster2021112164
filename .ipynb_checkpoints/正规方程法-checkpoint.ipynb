{
 "cells": [
  {
   "cell_type": "code",
   "execution_count": 1,
   "id": "7a38a701",
   "metadata": {},
   "outputs": [],
   "source": [
    "import numpy as np\n",
    "path=\"data_20220918210128.csv\""
   ]
  },
  {
   "cell_type": "code",
   "execution_count": 2,
   "id": "12c9b602",
   "metadata": {},
   "outputs": [],
   "source": [
    "X = np.loadtxt(path, delimiter=\",\", dtype=\"float\",usecols = (0,1,2))"
   ]
  },
  {
   "cell_type": "code",
   "execution_count": 3,
   "id": "7cdc5764",
   "metadata": {},
   "outputs": [],
   "source": [
    "y=np.loadtxt(path, delimiter=\",\", dtype=\"float\",usecols = (3))"
   ]
  },
  {
   "cell_type": "code",
   "execution_count": 4,
   "id": "a35f5c64",
   "metadata": {},
   "outputs": [],
   "source": [
    "W = np.linalg.inv(X.T@X)@X.T@y"
   ]
  },
  {
   "cell_type": "code",
   "execution_count": 5,
   "id": "5aff3ae0",
   "metadata": {},
   "outputs": [
    {
     "name": "stdout",
     "output_type": "stream",
     "text": [
      "[0.30644169 0.7048497  0.72862177]\n"
     ]
    }
   ],
   "source": [
    "print(W)"
   ]
  },
  {
   "cell_type": "code",
   "execution_count": null,
   "id": "15ed6b6e",
   "metadata": {},
   "outputs": [],
   "source": []
  }
 ],
 "metadata": {
  "kernelspec": {
   "display_name": "Python 3 (ipykernel)",
   "language": "python",
   "name": "python3"
  },
  "language_info": {
   "codemirror_mode": {
    "name": "ipython",
    "version": 3
   },
   "file_extension": ".py",
   "mimetype": "text/x-python",
   "name": "python",
   "nbconvert_exporter": "python",
   "pygments_lexer": "ipython3",
   "version": "3.9.12"
  }
 },
 "nbformat": 4,
 "nbformat_minor": 5
}
